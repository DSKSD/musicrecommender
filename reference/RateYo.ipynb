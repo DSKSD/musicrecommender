{
 "cells": [
  {
   "cell_type": "markdown",
   "metadata": {},
   "source": [
    "# 장고 Star Rating 달기 "
   ]
  },
  {
   "cell_type": "markdown",
   "metadata": {},
   "source": [
    "### 일단 재성이의 Recommender-System의 셋팅이 되어있다고 가정 "
   ]
  },
  {
   "cell_type": "markdown",
   "metadata": {},
   "source": [
    "####  1. base.html 헤드 태그 안에 Rate Yo! CDN을 추가하자\n",
    "\n",
    "http://rateyo.fundoocode.ninja/#installation "
   ]
  },
  {
   "cell_type": "raw",
   "metadata": {},
   "source": [
    "<link rel=\"stylesheet\" href=\"https://cdnjs.cloudflare.com/ajax/libs/rateYo/2.1.1/jquery.rateyo.min.css\">\n",
    "<script src=\"://cdnjs.cloudflare.com/ajax/libs/rateYo/2.1.1/jquery.rateyo.min.js\"></script>"
   ]
  },
  {
   "cell_type": "markdown",
   "metadata": {},
   "source": [
    "#### 2. product_detail.html 에 rateYo 객체? 불러오기 "
   ]
  },
  {
   "cell_type": "raw",
   "metadata": {},
   "source": [
    "<h1>{{object.name}}</h1> 태그 아래다가\n",
    "<div id=\"rateYo\"></div> 추가!"
   ]
  },
  {
   "cell_type": "markdown",
   "metadata": {},
   "source": [
    "* product_detail.html 에다가 rateYo 객체를 먼저 추가해준다"
   ]
  },
  {
   "cell_type": "markdown",
   "metadata": {},
   "source": [
    "#### 3. View 추가해주기"
   ]
  },
  {
   "cell_type": "markdown",
   "metadata": {},
   "source": [
    "\"\"\"AJAX로 POST로 오는 요청을 처리한다. 우선 이미 이 유저가 이 product에 매긴 rating이 있었는지 체크하고 (Vote 모델 내에 인스턴스가 있는지 체크), 만약 있었다면 새로운 별점으로 수정을 해주고, 처음 Rating 매기는 것이라면 새롭게 Vote 모델 안에 인스턴스를 추가한다. 그리고 다시 ProductView로 요청을 전달한다.\"\"\"\n"
   ]
  },
  {
   "cell_type": "code",
   "execution_count": 1,
   "metadata": {
    "collapsed": true
   },
   "outputs": [],
   "source": [
    "def newRating(request):\n",
    "\n",
    "    username = request.user\n",
    "    product = request.POST['product']\n",
    "    try:\n",
    "        vote = Vote.objects.get(user=username.id, product = product)\n",
    "        vote.score = request.POST['scoring']\n",
    "        vote.save()\n",
    "        return redirect('myrecommend.views.ProductView', pk=product)\n",
    "    except:\n",
    "        vote = Vote()\n",
    "        vote.user = username\n",
    "        vote.product_id = product\n",
    "        vote.site_id = 1\n",
    "        vote.score = request.POST['scoring']\n",
    "        vote.save()\n",
    "    \n",
    "    return redirect('myrecommend.views.ProductView', pk=product)\n",
    "    "
   ]
  },
  {
   "cell_type": "markdown",
   "metadata": {},
   "source": [
    "#### 4. ProductView도 약간의 수정이 필요하다. "
   ]
  },
  {
   "cell_type": "markdown",
   "metadata": {},
   "source": [
    "원래는 특정 제품을 자세히 보기 위해 'object'만 product_detail.html로 전달해줬지만 이젠 우린 그 특정제품에 대한 별점까지 같이 보여줘야 하기 때문에 별점에 대한 정보를 같이 던져준다."
   ]
  },
  {
   "cell_type": "markdown",
   "metadata": {},
   "source": [
    "먼저 Vote 모델을 뒤져서 유저가 그 product에 대해 rating 매긴적이 있다면 그 score를 voteRating 변수에 담고, 한번도 별점을 매긴적이 없다면 voteRating에 0을 담아서 product_detail.html에 함께 전달한다."
   ]
  },
  {
   "cell_type": "code",
   "execution_count": 2,
   "metadata": {
    "collapsed": false
   },
   "outputs": [
    {
     "ename": "SyntaxError",
     "evalue": "Missing parentheses in call to 'print' (<ipython-input-2-a98c63e79ff6>, line 6)",
     "output_type": "error",
     "traceback": [
      "\u001b[1;36m  File \u001b[1;32m\"<ipython-input-2-a98c63e79ff6>\"\u001b[1;36m, line \u001b[1;32m6\u001b[0m\n\u001b[1;33m    print username.id\u001b[0m\n\u001b[1;37m                 ^\u001b[0m\n\u001b[1;31mSyntaxError\u001b[0m\u001b[1;31m:\u001b[0m Missing parentheses in call to 'print'\n"
     ]
    }
   ],
   "source": [
    "def ProductView(request,pk=None):\n",
    "    object1=Product.objects.get(id=int(pk))\n",
    "    username= request.user\n",
    "    try:\n",
    "        vote = Vote.objects.get(user=username.id, product = object1.id)\n",
    "        print username.id\n",
    "        voteRating = vote.score\n",
    "    except:\n",
    "        voteRating = 0\n",
    "\n",
    "    return render(request, 'product_detail.html',{'object':object1, 'voteRating': voteRating})\n",
    "    "
   ]
  },
  {
   "cell_type": "markdown",
   "metadata": {},
   "source": [
    "#### 5. ajax로 post를 해주기 위한 url 추가"
   ]
  },
  {
   "cell_type": "markdown",
   "metadata": {},
   "source": [
    "urls.py에 \n",
    "\n",
    "url(r'^newRating/$', 'myrecommend.views.newRating', name='new_rating'), 추가"
   ]
  },
  {
   "cell_type": "markdown",
   "metadata": {},
   "source": [
    "#### 6. product_detail.html 에 rateYo 스크립트와 ajax 스크립트 추가 "
   ]
  },
  {
   "cell_type": "markdown",
   "metadata": {},
   "source": [
    "* rateYo를 동작하게 만드는  (최초 불러왔을때 별점을 초기화해주는 onInit fuction과 새롭게 눌렀을 때 수정하거나 추가해주는 onSet function 그리고 별점을 반개까지 줄 수 있는 옵션인 halfstar: True,) 그리고..\n",
    "\n",
    "\n",
    "* 가장 중요한.. 우리가 Productview에서 받아온 voteRating을 rateYo의 변수 rating에 할당해준다!!"
   ]
  },
  {
   "cell_type": "markdown",
   "metadata": {},
   "source": [
    "product_detail.html 에서 컨텐츠블록이 끝나기 전에 {% endblock %} 위에다가 아래 스크립트를 추가 "
   ]
  },
  {
   "cell_type": "raw",
   "metadata": {},
   "source": [
    "<script>\n",
    "$(function () {\n",
    "  \n",
    "  \n",
    "  $(\"#rateYo\").rateYo({\n",
    "    starWidth: \"40px\",\n",
    "    halfStar: true,\n",
    "    rating: \"{{voteRating}}\",\n",
    "    onInit: function (rating, rateYoInstance) {\n",
    " \n",
    "      console.log(\"RateYo initialized! with \" + rating);\n",
    "    },\n",
    "     onSet: function (rating, rateYoInstance) {\n",
    " \n",
    "      $.ajax({\n",
    "      method: \"POST\",\n",
    "      url: \"{% url 'new_rating' %}\",\n",
    "      data: {product: '{{object.id}}', scoring: rating, csrfmiddlewaretoken: '{{ csrf_token }}',},\n",
    "      success: function(){\n",
    "        console.log(\"please...\");  \n",
    "      },\n",
    "        error:function(request,status,error){\n",
    "             alert(\"code:\"+request.status+\"\\n\"+\"message:\"+request.responseText+\"\\n\"+\"error:\"+error);\n",
    "          }\n",
    "      \n",
    "    });\n",
    "    },\n",
    "\n",
    "    \n",
    "  });\n",
    " \n",
    "});\n",
    "\n",
    "\n",
    "</script>"
   ]
  }
 ],
 "metadata": {
  "kernelspec": {
   "display_name": "Python 3",
   "language": "python",
   "name": "python3"
  },
  "language_info": {
   "codemirror_mode": {
    "name": "ipython",
    "version": 3
   },
   "file_extension": ".py",
   "mimetype": "text/x-python",
   "name": "python",
   "nbconvert_exporter": "python",
   "pygments_lexer": "ipython3",
   "version": "3.5.1"
  }
 },
 "nbformat": 4,
 "nbformat_minor": 0
}
