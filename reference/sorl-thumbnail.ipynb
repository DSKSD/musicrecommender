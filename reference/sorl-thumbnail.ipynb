{
 "cells": [
  {
   "cell_type": "markdown",
   "metadata": {},
   "source": [
    "# 장고 썸네일 패키지 sorlthumbnail  "
   ]
  },
  {
   "cell_type": "markdown",
   "metadata": {},
   "source": [
    "## Config "
   ]
  },
  {
   "cell_type": "markdown",
   "metadata": {},
   "source": [
    "sudo pip install sorl-thumbnail\n",
    "\n",
    "후  settings에 app sorl.thumbnail 추가하고\n",
    "\n",
    "- sudo pip install Pillow\n",
    "\n",
    "- sudo apt-get update\n",
    " \n",
    "- sudo apt-get install imagemagick\n",
    "\n",
    "- sudo apt-get install python-pgmagick\n",
    "  \n",
    "- sudo apt-get install libmagickwand-dev\n",
    "\n",
    "- sudo pip install Wand\n",
    "\n",
    "- sudo python manage.py makemigrations thumbnail\n",
    "  \n",
    "- sudo python manage.py migrate\n",
    "\n"
   ]
  },
  {
   "cell_type": "markdown",
   "metadata": {},
   "source": [
    "## Use"
   ]
  },
  {
   "cell_type": "markdown",
   "metadata": {},
   "source": [
    "썸네일을 적용하고자 하는 Template에다\n",
    "\n",
    "{% load thumbnail %} 패키지 임포트 후"
   ]
  },
  {
   "cell_type": "raw",
   "metadata": {},
   "source": [
    "{% if post.photo %}<!-- 사진까지 업로드 했다면,,이지만 나중에 업로드 기능을 구현하면 사진은 강제로 넣게 해야할듯? -->\n",
    "  {% thumbnail post.photo \"300x300\" crop=\"center\" as im %} <!-- 사진이 있으면 그 아이를 300x300 크기의 썸네일로 만들어서 im으로 다룬다 -->\n",
    "       <img class=\"responsive-img\" src=\"{{ im.url }}\" width=\"{{ im.width }}\" height=\"{{ im.height }}\">\n",
    "   {% endthumbnail %}\n",
    "{% endif %}"
   ]
  },
  {
   "cell_type": "markdown",
   "metadata": {},
   "source": [
    "thumbnail의 픽셀을 직접 지정하여 im이라는 이름으로 이미지 클래스 지정하며 속성을 넣어주면 된다."
   ]
  },
  {
   "cell_type": "markdown",
   "metadata": {},
   "source": [
    "## Use with model "
   ]
  },
  {
   "cell_type": "markdown",
   "metadata": {},
   "source": [
    "모델 클래스의 메소드로 만들어서 사용할 수도 있다."
   ]
  },
  {
   "cell_type": "code",
   "execution_count": null,
   "metadata": {
    "collapsed": true
   },
   "outputs": [],
   "source": [
    "from sorl.thumbnail import ImageField\n",
    "from sorl.thumbnail import get_thumbnail\n",
    ".\n",
    ".\n",
    ".\n",
    "class Post(models.Model):\n",
    "    .\n",
    "    .\n",
    "    .\n",
    "    \n",
    "    def get_thumb(self):\n",
    "        im = get_thumbnail(self.photo, '50x50', crop='center', quality=99)\n",
    "        return im.url # 메소드 정의\n"
   ]
  },
  {
   "cell_type": "code",
   "execution_count": null,
   "metadata": {
    "collapsed": true
   },
   "outputs": [],
   "source": []
  }
 ],
 "metadata": {
  "kernelspec": {
   "display_name": "Python 3",
   "language": "python",
   "name": "python3"
  },
  "language_info": {
   "codemirror_mode": {
    "name": "ipython",
    "version": 3
   },
   "file_extension": ".py",
   "mimetype": "text/x-python",
   "name": "python",
   "nbconvert_exporter": "python",
   "pygments_lexer": "ipython3",
   "version": "3.5.1"
  }
 },
 "nbformat": 4,
 "nbformat_minor": 0
}
