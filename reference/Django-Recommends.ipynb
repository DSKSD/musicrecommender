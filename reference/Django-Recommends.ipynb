{
 "cells": [
  {
   "cell_type": "markdown",
   "metadata": {},
   "source": [
    "# /bin/bash\n",
    "\n",
    "sudo pip install django-recommends \n",
    "\n",
    "python manage.py startapp myrecommend\n",
    "\n",
    "\n",
    "# setting.py\n",
    "\n",
    "INSTALLED_APPS = [\n",
    "...........\n",
    "........\n",
    ".........\n",
    "..........\n",
    "\n",
    "]\n",
    "\n",
    "\n",
    "에 \n",
    "\n",
    "    'django.contrib.sites',\n",
    "\n",
    "    'recommends',  \n",
    "    'recommends.storages.djangoorm',\n",
    "\n",
    "    'myrecommend',\n",
    "\n",
    "\n",
    "4문장 추가 \n",
    "\n",
    "SITE_ID = 1 이라는 옵션 추가\n"
   ]
  },
  {
   "cell_type": "markdown",
   "metadata": {},
   "source": [
    "\n",
    "# model 정의\n",
    "\n",
    "# /myrecommend/models.py"
   ]
  },
  {
   "cell_type": "markdown",
   "metadata": {},
   "source": [
    "```python\n",
    "from __future__ import unicode_literals\n",
    "from django.db import models\n",
    "from django.contrib.auth.models import User\n",
    "from django.contrib.sites.models import Site\n",
    "from django.utils.encoding import python_2_unicode_compatible\n",
    "\n",
    "\n",
    "@python_2_unicode_compatible\n",
    "class Product(models.Model):\n",
    "    \"\"\"A generic Product\"\"\"\n",
    "    name = models.CharField(blank=True, max_length=100)\n",
    "    sites = models.ManyToManyField(Site)\n",
    "\n",
    "    def __str__(self):\n",
    "        return self.name\n",
    "\n",
    "    @models.permalink\n",
    "    def get_absolute_url(self):\n",
    "        return ('product_detail', [self.id])\n",
    "\n",
    "    def sites_str(self):\n",
    "        return ', '.join([s.name for s in self.sites.all()])\n",
    "    sites_str.short_description = 'sites'\n",
    "\n",
    "\n",
    "@python_2_unicode_compatible\n",
    "class Vote(models.Model):\n",
    "    \"\"\"A Vote on a Product\"\"\"\n",
    "    user = models.ForeignKey(User, related_name='votes')\n",
    "    product = models.ForeignKey(Product)\n",
    "    site = models.ForeignKey(Site)\n",
    "    score = models.FloatField()\n",
    "\n",
    "    def __str__(self):\n",
    "        return \"Vote\"\n",
    "```"
   ]
  },
  {
   "cell_type": "markdown",
   "metadata": {},
   "source": [
    "# view 정의\n",
    "\n",
    "# /myrecommend/views.py"
   ]
  },
  {
   "cell_type": "markdown",
   "metadata": {},
   "source": [
    "```python\n",
    "\n",
    "# Create your views here.\n",
    "from django.contrib.auth import authenticate, login as _login\n",
    "from django.http import HttpResponseRedirect\n",
    "\n",
    "from .models import Product\n",
    "from django.shortcuts import render\n",
    "\n",
    "def login(request):\n",
    "    username = request.POST['username']\n",
    "    password = request.POST['password']\n",
    "    user = authenticate(username=username, password=password)\n",
    "    if user is not None:\n",
    "        if user.is_active:\n",
    "            _login(request, user)\n",
    "            # redirect to a success page.\n",
    "        else:\n",
    "            # Return a 'disabled account' error message\n",
    "            pass\n",
    "    else:\n",
    "        pass\n",
    "        # Return an 'invalid login' error message.\n",
    "    return HttpResponseRedirect(request.POST.get('next', '/'))\n",
    "\n",
    "\n",
    "def ProductView(request,pk=None):\n",
    "    object1=Product.objects.get(id=int(pk))\n",
    "    return render(request, 'product_detail.html',{'object':object1})\n",
    "    \n",
    "```"
   ]
  },
  {
   "cell_type": "markdown",
   "metadata": {},
   "source": [
    "# recommendations.py 생성\n",
    "# /myrecommend/recommendations.py\n",
    "\n",
    "# - 어떻게 돌아가는지는 자세히 모른다 ㅠㅠ"
   ]
  },
  {
   "cell_type": "markdown",
   "metadata": {},
   "source": [
    "```python\n",
    "\n",
    "\n",
    "#recommendations.py\n",
    "\n",
    "from django.contrib.auth.models import User\n",
    "from recommends.providers import RecommendationProvider\n",
    "from recommends.providers import recommendation_registry\n",
    "\n",
    "from .models import Product, Vote\n",
    "\n",
    "class ProductRecommendationProvider(RecommendationProvider):\n",
    "    def get_users(self):\n",
    "        return User.objects.filter(is_active=True, votes__isnull=False).distinct()\n",
    "\n",
    "    def get_items(self):\n",
    "        return Product.objects.all()\n",
    "\n",
    "    def get_ratings(self, obj):\n",
    "        return Vote.objects.filter(product=obj)\n",
    "\n",
    "    def get_rating_score(self, rating):\n",
    "        return rating.score\n",
    "\n",
    "    def get_rating_site(self, rating):\n",
    "        return rating.site\n",
    "\n",
    "    def get_rating_user(self, rating):\n",
    "        return rating.user\n",
    "\n",
    "    def get_rating_item(self, rating):\n",
    "        return rating.product\n",
    "\n",
    "recommendation_registry.register(Vote, [Product], ProductRecommendationProvider)\n",
    "\n",
    "\n",
    "```"
   ]
  },
  {
   "cell_type": "markdown",
   "metadata": {},
   "source": [
    "# url 정의\n",
    "# /내프로젝트이름/urls.py"
   ]
  },
  {
   "cell_type": "markdown",
   "metadata": {},
   "source": [
    "```python\n",
    "\n",
    "\n",
    "#/myrecommend/urls.py\n",
    "\n",
    "\n",
    "from django.conf.urls import url\n",
    "from django.contrib import admin\n",
    "from django.views.generic import TemplateView\n",
    "\n",
    "\n",
    "urlpatterns = [\n",
    "    url(r'^admin/', admin.site.urls),\n",
    "    url(r'^login/','recommends.tests.views.login', name='login'),\n",
    "    url(r'^product/(?P<pk>\\d+)/$','myrecommend.views.ProductView', name='product_detail'),\n",
    "    url(r'^$', TemplateView.as_view(template_name='home.html'), name='home'),\n",
    "]\n",
    "\n",
    "```"
   ]
  },
  {
   "cell_type": "markdown",
   "metadata": {},
   "source": [
    "# admin 에 내 모델 추가\n",
    "\n",
    "# /myrecommend/admin.py"
   ]
  },
  {
   "cell_type": "markdown",
   "metadata": {},
   "source": [
    "```python\n",
    "from django.contrib import admin\n",
    "\n",
    "# Register your models here.\n",
    "\n",
    "from myrecommend.models import Product,Vote\n",
    "\n",
    "admin.site.register(Product)\n",
    "admin.site.register(Vote)\n",
    "\n",
    "```"
   ]
  },
  {
   "cell_type": "markdown",
   "metadata": {},
   "source": [
    "# 일단 지금까지 잘됐는지 해보자!!\n"
   ]
  },
  {
   "cell_type": "markdown",
   "metadata": {},
   "source": [
    "python manage.py makemigrations  \n",
    "python manage.py migrate  \n",
    "\n",
    "python manage.py createsuperuser  \n",
    "\n",
    "슈퍼유저 생성하고~~~\n",
    "\n",
    "어드민가서 확인해보자\n",
    "\n",
    "확인해보자 모델 잘 생성됐는지.. c9에서할때 가끔씩 뻑날때가있다... "
   ]
  },
  {
   "cell_type": "markdown",
   "metadata": {},
   "source": [
    "# 모델은 잘생성됐다!! 모델에 fixture 넣어주고 탬플릿 추가하자\n",
    "\n"
   ]
  },
  {
   "cell_type": "markdown",
   "metadata": {},
   "source": [
    "# 탬플릿 추가\n"
   ]
  },
  {
   "cell_type": "markdown",
   "metadata": {},
   "source": [
    "# base.html 만들기\n",
    "\n",
    "# /myrecommend/templates/base.html "
   ]
  },
  {
   "cell_type": "markdown",
   "metadata": {},
   "source": [
    "```python\n",
    "\n",
    "<!DOCTYPE html>\n",
    "<html>\n",
    "<head>\n",
    "\t<meta charset=\"utf-8\" />\n",
    "\t<title>Django Recommends</title>\n",
    "</head>\n",
    "<body>\n",
    "\t{% if user.is_anonymous %}\n",
    "\t<form action=\"{% url 'login' %}\" method=\"post\" id=\"login-form\">{% csrf_token %}\n",
    "\t  <div class=\"form-row\">\n",
    "\t    \n",
    "\t    <label for=\"id_username\" class=\"required\">Username:</label> <input id=\"id_username\" type=\"text\" name=\"username\" maxlength=\"30\">\n",
    "\t  </div>\n",
    "\t  <div class=\"form-row\">\n",
    "\t    \n",
    "\t    <label for=\"id_password\" class=\"required\">Password:</label> <input type=\"password\" name=\"password\" id=\"id_password\">\n",
    "\t  </div>\n",
    "\t  <div class=\"submit-row\">\n",
    "\t    <label>&nbsp;</label><input type=\"submit\" value=\"Log in\">\n",
    "\t  </div>\n",
    "\t</form>\n",
    "\t{% else %}\n",
    "\t<p>Welcome, {{user.username}}. <a href=\"{% url 'admin:logout' %}\">Logout</a>.</p>\n",
    "\t{% endif %}\n",
    "\t{% block content %}{% endblock %}\n",
    "</body>\n",
    "</html>\n",
    "\n",
    "```"
   ]
  },
  {
   "cell_type": "markdown",
   "metadata": {},
   "source": [
    "# home.html 만들기\n",
    "\n",
    "# /myrecommend/templates/home.html "
   ]
  },
  {
   "cell_type": "markdown",
   "metadata": {},
   "source": [
    "```python\n",
    "{% extends \"base.html\" %}\n",
    "{% load recommends %}\n",
    "\n",
    "{% block content %}\n",
    "    {% suggested as suggestions limit 5  %}\n",
    "\t{% if user.is_authenticated %}\n",
    "    {% if suggestions %}\n",
    "\t<h3>Suggestions for you:</h3>\n",
    "\t<ul>\n",
    "\t{% for suggestion in suggestions %}\n",
    "\t\t<li><a href=\"{{suggestion.object.get_absolute_url}}\">{{suggestion.object}}</a></li>\n",
    "\t{% endfor %}\n",
    "\t</ul>\n",
    "\n",
    "\t{% endif %}\n",
    "\t{% endif %}\n",
    "{% endblock %}\n",
    "\n",
    "```"
   ]
  },
  {
   "cell_type": "markdown",
   "metadata": {},
   "source": [
    "# product_detail.html 만들기\n",
    "\n",
    "# /myrecommend/templates/product_detail.html  "
   ]
  },
  {
   "cell_type": "markdown",
   "metadata": {},
   "source": [
    "```python\n",
    "{% extends \"base.html\" %}\n",
    "{% load recommends %}\n",
    "\n",
    "{% block content %}\n",
    "<h1>{{object.name}}</h1>\n",
    "{% with object|similarities as similarities %}\n",
    "{% if similarities %}\n",
    "<ul>\n",
    "\t{% for similarity in similarities %}\n",
    "\t<li><a href=\"{{similarity.related_object.get_absolute_url}}\">{{similarity.related_object}}</a></li>\n",
    "\t{% endfor %}\n",
    "</ul>\n",
    "{% endif %}\n",
    "{% endwith %}\n",
    "{% endblock %}\n",
    "\n",
    "```"
   ]
  },
  {
   "cell_type": "markdown",
   "metadata": {},
   "source": [
    "# fixture - 초기데이터 넣어주기\n",
    "\n",
    "# myrecommend 앱에 fixture 폴더 추가하고 product.json 넣는다. product.json은 django-recommender github에 fixture 폴더안에 있음 "
   ]
  },
  {
   "cell_type": "markdown",
   "metadata": {},
   "source": [
    "아 이때 product.json 이 테스트용 데이터라 데이터가 테스트용 모델로 설정돼있었다. 그래서 그안의 내용들을 컨트롤 f 바꾸기 신공으로 우리 모델과 맞게 바꿔줬다..."
   ]
  },
  {
   "cell_type": "markdown",
   "metadata": {},
   "source": [
    "python manage.py loaddata myrecommend/fixture/products1.json  \n",
    "python manage.py recommends_precompute\n"
   ]
  },
  {
   "cell_type": "markdown",
   "metadata": {},
   "source": [
    "loaddata - fixture를 자신의 모델에 넣는명령어\n",
    "recommends_precompute - django-recommend 깔면 추가되는 명령어로 이거하면 djangoorm 모델들 계산해준다.\n",
    "\n",
    "djangoorm 모델에 Similarities db 가지고\n",
    "\n",
    "새로운 유저가 들어올때 \n",
    "\n",
    "reommendations.py 으로 계산을 해주면 되지 않을까..??\n",
    "\n",
    "SITE DB도 어디쓰이는지모르겠음 ㅠ"
   ]
  },
  {
   "cell_type": "code",
   "execution_count": null,
   "metadata": {
    "collapsed": true
   },
   "outputs": [],
   "source": []
  }
 ],
 "metadata": {
  "kernelspec": {
   "display_name": "Python 3",
   "language": "python",
   "name": "python3"
  },
  "language_info": {
   "codemirror_mode": {
    "name": "ipython",
    "version": 3
   },
   "file_extension": ".py",
   "mimetype": "text/x-python",
   "name": "python",
   "nbconvert_exporter": "python",
   "pygments_lexer": "ipython3",
   "version": "3.5.0"
  }
 },
 "nbformat": 4,
 "nbformat_minor": 0
}
